{
 "cells": [
  {
   "cell_type": "markdown",
   "metadata": {},
   "source": [
    "TPA or randomised, \n",
    "\n",
    "('recent_medical_history', 'tpa'),\n",
    "('recent_medical_history', 'tpa_datetime'),\n",
    "('recent_medical_history', 'tpa_volume'),\n",
    "\n",
    "\n",
    "lesions Bruce Cambell\n",
    "Follow up lesion location definition"
   ]
  },
  {
   "cell_type": "code",
   "execution_count": 1,
   "metadata": {
    "collapsed": true
   },
   "outputs": [],
   "source": [
    "import pandas as pd\n",
    "\n",
    "df = pd.read_hdf('big_multi_index.h5')\n",
    "scans = pd.read_pickle('scans.p')\n",
    "\n",
    "bad_3_df = df[['day_1','day_7']]\n",
    "good_3_df = df[['day_baseline','day_90','day_365']]\n",
    "possible_add = bad_3_df.loc[scans.index]\n",
    "seigel_df = good_3_df.loc[scans.index]\n",
    "\n",
    "id_codes = pd.read_pickle('imaging_id_codes.p').loc[scans.index,'prefix']\n",
    "\n",
    "scan_id_df = df.loc[scans.index]\n",
    "\n",
    "scan_id_df.drop('day_0', axis='columns', level=0,inplace = True)\n",
    "\n",
    "#all except 3 TPA columns\n",
    "\n",
    "delete_these_1 = \\\n",
    "[('day_baseline', 'recent_medical_history', 'bp_three_hr'),\n",
    " ('day_baseline', 'recent_medical_history', 'bp_three_hr_systolic'),\n",
    " ('day_baseline', 'recent_medical_history', 'bp_three_hr_diastolic'),\n",
    " ('day_baseline', 'recent_medical_history', 'bp_three_hr_datetime'),\n",
    " ('day_baseline', 'recent_medical_history', 'bp_seven_hr'),\n",
    " ('day_baseline', 'recent_medical_history', 'bp_seven_hr_systolic'),\n",
    " ('day_baseline', 'recent_medical_history', 'bp_seven_hr_diastolic'),\n",
    " ('day_baseline', 'recent_medical_history', 'bp_seven_hr_datetime'),\n",
    " ('day_baseline', 'recent_medical_history', 'bp_other_hr'),\n",
    " ('day_baseline', 'recent_medical_history', 'bp_other_hr_systolic'),\n",
    " ('day_baseline', 'recent_medical_history', 'bp_other_hr_diastolic'),\n",
    " ('day_baseline', 'recent_medical_history', 'bp_other_hr_datetime'),\n",
    " ('day_baseline', 'recent_medical_history', 'hrt_seven_hr'),\n",
    " ('day_baseline', 'recent_medical_history', 'hrt_seven_hr_rate'),\n",
    " ('day_baseline', 'recent_medical_history', 'hrt_seven_hr_datetime'),\n",
    " ('day_baseline', 'recent_medical_history', 'hrt_other_hr'),\n",
    " ('day_baseline', 'recent_medical_history', 'hrt_other_hr_rate'),\n",
    " ('day_baseline', 'recent_medical_history', 'hrt_other_hr_datetime'),\n",
    " ('day_baseline', 'recent_medical_history', 'surgical_intervention'),\n",
    " ('day_baseline', 'recent_medical_history', 'surgical_intervention_detail'),\n",
    " ('day_baseline', 'recent_medical_history', 'invasive_intervention'),\n",
    " ('day_baseline', 'recent_medical_history', 'invasive_intervention_detail'),\n",
    " ('day_baseline', 'recent_medical_history', 'imaging_intervention'),\n",
    " ('day_baseline', 'recent_medical_history', 'imaging_intervention_detail'),\n",
    " ('day_baseline', 'recent_medical_history', 'other_intervention'),\n",
    " ('day_baseline', 'recent_medical_history', 'other_intervention_detail'),\n",
    " ('day_baseline', 'recent_medical_history', 'medication_given'),\n",
    " ('day_baseline', 'recent_medical_history', 'medication_comment')]\n",
    "\n",
    "scan_id_df.drop(delete_these_1, axis = 'columns',inplace = True)"
   ]
  },
  {
   "cell_type": "code",
   "execution_count": 2,
   "metadata": {
    "collapsed": true
   },
   "outputs": [],
   "source": [
    "remove_tests = \\\n",
    "[('day_baseline','physical_examination'), \n",
    " ('day_baseline', 'past_medical_history'), \n",
    " ('day_baseline', 'CCMI'), \n",
    " ('day_baseline', 'further_stroke_event_part'), \n",
    " ('day_baseline', 'bloods'), \n",
    " ('day_baseline', 'laboratory_tests'), \n",
    " ('day_baseline', 'radiological_scans'), \n",
    " ('day_baseline', 'concomitant_medications'), \n",
    " ('day_baseline', 'pre-stroke_mRS'),\n",
    " ('day_7', 'bloods') , \n",
    " ('day_7', 'history_of_depression'), \n",
    " ('day_7', 'physical_risk_factors'), \n",
    " ('day_7', 'diet_q'),\n",
    " ('day_7', 'laboratory_tests'), \n",
    " ('day_7', 'concomitant_medications'), \n",
    " ('day_7', 'concomitant_medications_plus'), \n",
    " ('day_90', 'bloods'), \n",
    " ('day_90', 'physical_examination'), \n",
    " ('day_90', 'physical_risk_factors'), \n",
    " ('day_90', 'diet_q'), \n",
    " ('day_90', 'laboratory_tests'), \n",
    " ('day_90', 'further_stroke_event_part'), \n",
    " ('day_90', 'history_of_depression'), \n",
    " ('day_90', 'concomitant_medications'), \n",
    " ('day_365', 'bloods'), \n",
    " ('day_365', 'physical_examination'), \n",
    " ('day_365', 'physical_risk_factors'), \n",
    " ('day_365', 'diet_q'), \n",
    " ('day_365', 'laboratory_tests'), \n",
    " ('day_365', 'further_stroke_event_part'), \n",
    " ('day_365', 'history_of_depression'), \n",
    " ('day_365', 'concomitant_medications'), \n",
    " ('day_1', 'vital_signs'), \n",
    " ('day_1', 'bloods'), \n",
    " ('day_1', 'laboratory_tests'), \n",
    " ('day_1', 'serious_adverse_event')]"
   ]
  },
  {
   "cell_type": "code",
   "execution_count": 3,
   "metadata": {},
   "outputs": [
    {
     "name": "stderr",
     "output_type": "stream",
     "text": [
      "/Users/alistair/anaconda3/lib/python3.6/site-packages/ipykernel/kernelbase.py:399: PerformanceWarning: indexing past lexsort depth may impact performance.\n",
      "  user_expressions, allow_stdin)\n"
     ]
    }
   ],
   "source": [
    "scan_id_df.drop(remove_tests, axis = 'columns',inplace = True)"
   ]
  },
  {
   "cell_type": "code",
   "execution_count": 13,
   "metadata": {},
   "outputs": [],
   "source": [
    "scan_id_df.columns = scan_id_df.columns.remove_unused_levels()"
   ]
  },
  {
   "cell_type": "code",
   "execution_count": 18,
   "metadata": {},
   "outputs": [
    {
     "data": {
      "text/plain": [
       "[('NIHSS_multiple', 'nihss_three_hr'),\n",
       " ('NIHSS_multiple', 'nihss_three_hr_score'),\n",
       " ('NIHSS_multiple', 'nihss_three_hr_datetime'),\n",
       " ('NIHSS_multiple', 'nihss_seven_hr'),\n",
       " ('NIHSS_multiple', 'nihss_seven_hr_score'),\n",
       " ('NIHSS_multiple', 'nihss_seven_hr_datetime'),\n",
       " ('NIHSS_multiple', 'nihss_eighteen_hr'),\n",
       " ('NIHSS_multiple', 'nihss_eighteen_hr_score'),\n",
       " ('NIHSS_multiple', 'nihss_eighteen_hr_datetime'),\n",
       " ('NIHSS_multiple', 'nihss_other_hr'),\n",
       " ('NIHSS_multiple', 'nihss_other_hr_score'),\n",
       " ('NIHSS_multiple', 'nihss_other_hr_datetime'),\n",
       " ('recent_medical_history', 'tpa'),\n",
       " ('recent_medical_history', 'tpa_datetime'),\n",
       " ('recent_medical_history', 'tpa_volume'),\n",
       " ('NIHSS', 'loc'),\n",
       " ('NIHSS', 'loc_quest'),\n",
       " ('NIHSS', 'loc_command'),\n",
       " ('NIHSS', 'best_gaze'),\n",
       " ('NIHSS', 'vis_field_test'),\n",
       " ('NIHSS', 'facial_palsy'),\n",
       " ('NIHSS', 'motor_arm_l'),\n",
       " ('NIHSS', 'motor_arm_r'),\n",
       " ('NIHSS', 'motor_leg_l'),\n",
       " ('NIHSS', 'motor_leg_r'),\n",
       " ('NIHSS', 'limb_ataxia'),\n",
       " ('NIHSS', 'sensory'),\n",
       " ('NIHSS', 'best_lang'),\n",
       " ('NIHSS', 'dysarthria'),\n",
       " ('NIHSS', 'extinction'),\n",
       " ('NIHSS', 'score'),\n",
       " ('NIHSS', 'valid'),\n",
       " ('NIHSS', 'reason')]"
      ]
     },
     "execution_count": 18,
     "metadata": {},
     "output_type": "execute_result"
    }
   ],
   "source": [
    "scan_id_df['day_baseline'].columns.tolist()"
   ]
  },
  {
   "cell_type": "code",
   "execution_count": null,
   "metadata": {
    "collapsed": true
   },
   "outputs": [],
   "source": []
  }
 ],
 "metadata": {
  "kernelspec": {
   "display_name": "Python 3",
   "language": "python",
   "name": "python3"
  },
  "language_info": {
   "codemirror_mode": {
    "name": "ipython",
    "version": 3
   },
   "file_extension": ".py",
   "mimetype": "text/x-python",
   "name": "python",
   "nbconvert_exporter": "python",
   "pygments_lexer": "ipython3",
   "version": "3.6.2"
  }
 },
 "nbformat": 4,
 "nbformat_minor": 2
}
